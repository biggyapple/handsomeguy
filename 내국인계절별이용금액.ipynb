{
 "cells": [
  {
   "cell_type": "code",
   "execution_count": 1,
   "id": "ac380040",
   "metadata": {
    "scrolled": false
   },
   "outputs": [
    {
     "data": {
      "text/html": [
       "<div>\n",
       "<style scoped>\n",
       "    .dataframe tbody tr th:only-of-type {\n",
       "        vertical-align: middle;\n",
       "    }\n",
       "\n",
       "    .dataframe tbody tr th {\n",
       "        vertical-align: top;\n",
       "    }\n",
       "\n",
       "    .dataframe thead th {\n",
       "        text-align: right;\n",
       "    }\n",
       "</style>\n",
       "<table border=\"1\" class=\"dataframe\">\n",
       "  <thead>\n",
       "    <tr style=\"text-align: right;\">\n",
       "      <th></th>\n",
       "      <th>년월</th>\n",
       "      <th>시도명</th>\n",
       "      <th>읍면동명</th>\n",
       "      <th>업종명</th>\n",
       "      <th>이용자수</th>\n",
       "      <th>이용금액</th>\n",
       "    </tr>\n",
       "  </thead>\n",
       "  <tbody>\n",
       "    <tr>\n",
       "      <th>0</th>\n",
       "      <td>2019-01-01</td>\n",
       "      <td>서귀포시</td>\n",
       "      <td>남원읍</td>\n",
       "      <td>건강보조식품 소매업</td>\n",
       "      <td>8</td>\n",
       "      <td>472000</td>\n",
       "    </tr>\n",
       "    <tr>\n",
       "      <th>1</th>\n",
       "      <td>2019-01-01</td>\n",
       "      <td>서귀포시</td>\n",
       "      <td>남원읍</td>\n",
       "      <td>골프장 운영업</td>\n",
       "      <td>3667</td>\n",
       "      <td>608346185</td>\n",
       "    </tr>\n",
       "    <tr>\n",
       "      <th>2</th>\n",
       "      <td>2019-01-01</td>\n",
       "      <td>서귀포시</td>\n",
       "      <td>남원읍</td>\n",
       "      <td>과실 및 채소 소매업</td>\n",
       "      <td>1525</td>\n",
       "      <td>135385807</td>\n",
       "    </tr>\n",
       "    <tr>\n",
       "      <th>3</th>\n",
       "      <td>2019-01-01</td>\n",
       "      <td>서귀포시</td>\n",
       "      <td>남원읍</td>\n",
       "      <td>관광 민예품 및 선물용품 소매업</td>\n",
       "      <td>241</td>\n",
       "      <td>4915500</td>\n",
       "    </tr>\n",
       "    <tr>\n",
       "      <th>4</th>\n",
       "      <td>2019-01-01</td>\n",
       "      <td>서귀포시</td>\n",
       "      <td>남원읍</td>\n",
       "      <td>그외 기타 종합 소매업</td>\n",
       "      <td>15</td>\n",
       "      <td>11905000</td>\n",
       "    </tr>\n",
       "    <tr>\n",
       "      <th>...</th>\n",
       "      <td>...</td>\n",
       "      <td>...</td>\n",
       "      <td>...</td>\n",
       "      <td>...</td>\n",
       "      <td>...</td>\n",
       "      <td>...</td>\n",
       "    </tr>\n",
       "    <tr>\n",
       "      <th>14210</th>\n",
       "      <td>2019-12-01</td>\n",
       "      <td>제주시</td>\n",
       "      <td>화북동</td>\n",
       "      <td>차량용 주유소 운영업</td>\n",
       "      <td>10959</td>\n",
       "      <td>700951208</td>\n",
       "    </tr>\n",
       "    <tr>\n",
       "      <th>14211</th>\n",
       "      <td>2019-12-01</td>\n",
       "      <td>제주시</td>\n",
       "      <td>화북동</td>\n",
       "      <td>체인화 편의점</td>\n",
       "      <td>18150</td>\n",
       "      <td>158835020</td>\n",
       "    </tr>\n",
       "    <tr>\n",
       "      <th>14212</th>\n",
       "      <td>2019-12-01</td>\n",
       "      <td>제주시</td>\n",
       "      <td>화북동</td>\n",
       "      <td>피자, 햄버거, 샌드위치 및 유사 음식점업</td>\n",
       "      <td>2436</td>\n",
       "      <td>48855810</td>\n",
       "    </tr>\n",
       "    <tr>\n",
       "      <th>14213</th>\n",
       "      <td>2019-12-01</td>\n",
       "      <td>제주시</td>\n",
       "      <td>화북동</td>\n",
       "      <td>한식 음식점업</td>\n",
       "      <td>17626</td>\n",
       "      <td>670361636</td>\n",
       "    </tr>\n",
       "    <tr>\n",
       "      <th>14214</th>\n",
       "      <td>2019-12-01</td>\n",
       "      <td>제주시</td>\n",
       "      <td>화북동</td>\n",
       "      <td>화장품 및 방향제 소매업</td>\n",
       "      <td>262</td>\n",
       "      <td>19415860</td>\n",
       "    </tr>\n",
       "  </tbody>\n",
       "</table>\n",
       "<p>14215 rows × 6 columns</p>\n",
       "</div>"
      ],
      "text/plain": [
       "              년월   시도명 읍면동명                      업종명   이용자수       이용금액\n",
       "0     2019-01-01  서귀포시  남원읍               건강보조식품 소매업      8     472000\n",
       "1     2019-01-01  서귀포시  남원읍                  골프장 운영업   3667  608346185\n",
       "2     2019-01-01  서귀포시  남원읍              과실 및 채소 소매업   1525  135385807\n",
       "3     2019-01-01  서귀포시  남원읍        관광 민예품 및 선물용품 소매업    241    4915500\n",
       "4     2019-01-01  서귀포시  남원읍             그외 기타 종합 소매업     15   11905000\n",
       "...          ...   ...  ...                      ...    ...        ...\n",
       "14210 2019-12-01   제주시  화북동              차량용 주유소 운영업  10959  700951208\n",
       "14211 2019-12-01   제주시  화북동                  체인화 편의점  18150  158835020\n",
       "14212 2019-12-01   제주시  화북동  피자, 햄버거, 샌드위치 및 유사 음식점업   2436   48855810\n",
       "14213 2019-12-01   제주시  화북동                  한식 음식점업  17626  670361636\n",
       "14214 2019-12-01   제주시  화북동            화장품 및 방향제 소매업    262   19415860\n",
       "\n",
       "[14215 rows x 6 columns]"
      ]
     },
     "execution_count": 1,
     "metadata": {},
     "output_type": "execute_result"
    }
   ],
   "source": [
    "import pandas as pd\n",
    "jejudata19=pd.read_excel('C:/Users/user/.jupyter/data19.xlsx')\n",
    "del jejudata19[\"데이터기준일자\"]\n",
    "del jejudata19[\"총 유동인구\"]\n",
    "pd.options.display.float_format = '{:.2f}'.format\n",
    "jejudata19"
   ]
  },
  {
   "cell_type": "code",
   "execution_count": 3,
   "id": "dac93aa8",
   "metadata": {},
   "outputs": [],
   "source": [
    "total=jejudata19.groupby([\"읍면동명\"],as_index=False).sum()\n",
    "\n",
    "\n",
    "total = total.sort_values(by=['읍면동명'] ,ascending=True)\n",
    "del total[\"이용자수\"]\n",
    "del total[\"이용금액\"]\n",
    "total.to_csv(\"행정동명.csv\",index=True)\n"
   ]
  },
  {
   "cell_type": "code",
   "execution_count": 4,
   "id": "bc2961f6",
   "metadata": {},
   "outputs": [
    {
     "data": {
      "text/plain": [
       "<Figure size 432x288 with 0 Axes>"
      ]
     },
     "metadata": {},
     "output_type": "display_data"
    }
   ],
   "source": [
    "import matplotlib.pyplot as plt\n",
    "import os\n",
    "if os.name == 'posix':\n",
    "\n",
    "    plt.rc(\"font\", family=\"AppleGothic\")\n",
    "\n",
    "else:\n",
    "\n",
    "    plt.rc(\"font\", family=\"Malgun Gothic\")\n",
    "plt.figure()\n",
    "\n",
    "plt.show()"
   ]
  },
  {
   "cell_type": "code",
   "execution_count": 7,
   "id": "b36c3860",
   "metadata": {},
   "outputs": [
    {
     "data": {
      "image/png": "[encoded data removed]",
      "text/plain": [
       "<Figure size 432x288 with 1 Axes>"
      ]
     },
     "metadata": {
      "needs_background": "light"
     },
     "output_type": "display_data"
    },
    {
     "data": {
      "image/png": "[encoded data removed]",
      "text/plain": [
       "<Figure size 432x288 with 1 Axes>"
      ]
     },
     "metadata": {
      "needs_background": "light"
     },
     "output_type": "display_data"
    },
    {
     "data": {
      "image/png": "[encoded data removed]",
      "text/plain": [
       "<Figure size 432x288 with 1 Axes>"
      ]
     },
     "metadata": {
      "needs_background": "light"
     },
     "output_type": "display_data"
    },
    {
     "data": {
      "image/png": "[encoded data removed]",
      "text/plain": [
       "<Figure size 432x288 with 1 Axes>"
      ]
     },
     "metadata": {
      "needs_background": "light"
     },
     "output_type": "display_data"
    }
   ],
   "source": [
    "#계절별\n",
    "\n",
    "food=jejudata19[(jejudata19[\"업종명\"]==\"한식 음식점업\")\n",
    "    |(jejudata19[\"업종명\"]==\"중식 음식점업\")\n",
    "    |(jejudata19[\"업종명\"]==\"일식 음식점업\")\n",
    "    |(jejudata19[\"업종명\"]==\"서양식 음식점업\")\n",
    "    |(jejudata19[\"업종명\"]==\"비알콜 음료점업\")\n",
    "    |(jejudata19[\"업종명\"]==\"기타 외국식 음식점\")\n",
    "    |(jejudata19[\"업종명\"]==\"피자, 햄버거, 샌드위치 및 유사 음식점업\")]\n",
    "\n",
    "food_spring=food[(food[\"년월\"]==\"2019-03-01\")\n",
    "                |(food[\"년월\"]==\"2019-04-01\")\n",
    "                |(food[\"년월\"]==\"2019-05-01\")]\n",
    "\n",
    "food_summer=food[(food[\"년월\"]==\"2019-06-01\")\n",
    "                |(food[\"년월\"]==\"2019-07-01\")\n",
    "                |(food[\"년월\"]==\"2019-08-01\")]\n",
    "\n",
    "food_fall=food[(food[\"년월\"]==\"2019-09-01\")\n",
    "                |(food[\"년월\"]==\"2019-10-01\")\n",
    "                |(food[\"년월\"]==\"2019-11-01\")]\n",
    "\n",
    "food_winter=food[(food[\"년월\"]==\"2019-12-01\")\n",
    "                |(food[\"년월\"]==\"2019-01-01\")\n",
    "                |(food[\"년월\"]==\"2019-02-01\")]\n",
    "\n",
    "food_spring=food_spring.groupby([\"읍면동명\"],as_index=False).sum()\n",
    "food_spring[\"1인당 이용금액\"] = food_spring[\"이용금액\"]/food_spring[\"이용자수\"]\n",
    "food_spring[\"업종명\"]=\"식음료\"\n",
    "food_spring = food_spring.sort_values(by=[\"1인당 이용금액\"],ascending=[False])\n",
    "plt.title(\"봄:식음료\")\n",
    "plt.bar(food_spring[\"읍면동명\"].head(),food_spring[\"1인당 이용금액\"].head())\n",
    "plt.show()\n",
    "\n",
    "food_summer=food_summer.groupby([\"읍면동명\"],as_index=False).sum()\n",
    "food_summer[\"1인당 이용금액\"] = food_summer[\"이용금액\"]/food_summer[\"이용자수\"]\n",
    "food_summer[\"업종명\"]=\"식음료\"\n",
    "food_summer = food_summer.sort_values(by=[\"1인당 이용금액\"],ascending=[False])\n",
    "plt.title(\"여름:식음료\")\n",
    "plt.bar(food_summer[\"읍면동명\"].head(),food_summer[\"1인당 이용금액\"].head())\n",
    "plt.show()\n",
    "\n",
    "food_fall=food_fall.groupby([\"읍면동명\"],as_index=False).sum()\n",
    "food_fall[\"1인당 이용금액\"] = food_fall[\"이용금액\"]/food_fall[\"이용자수\"]\n",
    "food_fall[\"업종명\"]=\"식음료\"\n",
    "food_fall = food_fall.sort_values(by=[\"1인당 이용금액\"],ascending=[False])\n",
    "plt.title(\"가을:식음료\")\n",
    "plt.bar(food_fall[\"읍면동명\"].head(),food_fall[\"1인당 이용금액\"].head())\n",
    "plt.show()\n",
    "\n",
    "food_winter=food_winter.groupby([\"읍면동명\"],as_index=False).sum()\n",
    "food_winter[\"1인당 이용금액\"] = food_winter[\"이용금액\"]/food_winter[\"이용자수\"]\n",
    "food_winter[\"업종명\"]=\"식음료\"\n",
    "food_winter = food_winter.sort_values(by=[\"1인당 이용금액\"],ascending=[False])\n",
    "plt.title(\"겨울:식음료\")\n",
    "plt.bar(food_winter[\"읍면동명\"].head(),food_winter[\"1인당 이용금액\"].head())\n",
    "plt.show()"
   ]
  },
  {
   "cell_type": "code",
   "execution_count": 10,
   "id": "bdb782bc",
   "metadata": {},
   "outputs": [
    {
     "data": {
      "image/png": "[encoded data removed]",
      "text/plain": [
       "<Figure size 432x288 with 1 Axes>"
      ]
     },
     "metadata": {
      "needs_background": "light"
     },
     "output_type": "display_data"
    },
    {
     "data": {
      "image/png": "[encoded data removed]",
      "text/plain": [
       "<Figure size 432x288 with 1 Axes>"
      ]
     },
     "metadata": {
      "needs_background": "light"
     },
     "output_type": "display_data"
    },
    {
     "data": {
      "image/png": "[encoded data removed]",
      "text/plain": [
       "<Figure size 432x288 with 1 Axes>"
      ]
     },
     "metadata": {
      "needs_background": "light"
     },
     "output_type": "display_data"
    },
    {
     "data": {
      "image/png": "[encoded data removed]",
      "text/plain": [
       "<Figure size 432x288 with 1 Axes>"
      ]
     },
     "metadata": {
      "needs_background": "light"
     },
     "output_type": "display_data"
    }
   ],
   "source": [
    "sleep=jejudata19[(jejudata19[\"업종명\"]==\"호텔업\")\n",
    "                |(jejudata19[\"업종명\"]==\"휴양콘도\")\n",
    "                |(jejudata19[\"업종명\"]==\"여관업\")]\n",
    "\n",
    "\n",
    "sleep_spring=sleep[(sleep[\"년월\"]==\"2019-03-01\")\n",
    "                |(sleep[\"년월\"]==\"2019-04-01\")\n",
    "                |(sleep[\"년월\"]==\"2019-05-01\")]\n",
    "\n",
    "sleep_summer=sleep[(sleep[\"년월\"]==\"2019-06-01\")\n",
    "                |(sleep[\"년월\"]==\"2019-07-01\")\n",
    "                |(sleep[\"년월\"]==\"2019-08-01\")]\n",
    "\n",
    "sleep_fall=sleep[(sleep[\"년월\"]==\"2019-09-01\")\n",
    "                |(sleep[\"년월\"]==\"2019-10-01\")\n",
    "                |(sleep[\"년월\"]==\"2019-11-01\")]\n",
    "\n",
    "sleep_winter=sleep[(sleep[\"년월\"]==\"2019-12-01\")\n",
    "                |(sleep[\"년월\"]==\"2019-01-01\")\n",
    "                |(sleep[\"년월\"]==\"2019-02-01\")]\n",
    "\n",
    "sleep_spring=sleep_spring.groupby([\"읍면동명\"],as_index=False).sum()\n",
    "sleep_spring[\"1인당 이용금액\"] = sleep_spring[\"이용금액\"]/sleep_spring[\"이용자수\"]\n",
    "sleep_spring[\"업종명\"]=\"숙박업\"\n",
    "sleep_spring = sleep_spring.sort_values(by=[\"1인당 이용금액\"],ascending=[False])\n",
    "plt.title(\"봄:숙박업\")\n",
    "plt.bar(sleep_spring[\"읍면동명\"].head(),sleep_spring[\"1인당 이용금액\"].head())\n",
    "plt.show()\n",
    "\n",
    "sleep_summer=sleep_summer.groupby([\"읍면동명\"],as_index=False).sum()\n",
    "sleep_summer[\"1인당 이용금액\"] = sleep_summer[\"이용금액\"]/sleep_summer[\"이용자수\"]\n",
    "sleep_summer[\"업종명\"]=\"숙박업\"\n",
    "sleep_summer = sleep_summer.sort_values(by=[\"1인당 이용금액\"],ascending=[False])\n",
    "plt.title(\"여름:숙박업\")\n",
    "plt.bar(sleep_summer[\"읍면동명\"].head(),sleep_summer[\"1인당 이용금액\"].head())\n",
    "plt.show()\n",
    "\n",
    "sleep_fall=sleep_fall.groupby([\"읍면동명\"],as_index=False).sum()\n",
    "sleep_fall[\"1인당 이용금액\"] = sleep_fall[\"이용금액\"]/sleep_fall[\"이용자수\"]\n",
    "sleep_fall[\"업종명\"]=\"숙박업\"\n",
    "sleep_fall = sleep_fall.sort_values(by=[\"1인당 이용금액\"],ascending=[False])\n",
    "plt.title(\"가을:숙박업\")\n",
    "plt.bar(sleep_fall[\"읍면동명\"].head(),sleep_fall[\"1인당 이용금액\"].head())\n",
    "plt.show()\n",
    "\n",
    "sleep_winter=sleep_winter.groupby([\"읍면동명\"],as_index=False).sum()\n",
    "sleep_winter[\"1인당 이용금액\"] = sleep_winter[\"이용금액\"]/sleep_winter[\"이용자수\"]\n",
    "sleep_winter[\"업종명\"]=\"숙박업\"\n",
    "sleep_winter = sleep_winter.sort_values(by=[\"1인당 이용금액\"],ascending=[False])\n",
    "plt.title(\"겨울:숙박업\")\n",
    "plt.bar(sleep_winter[\"읍면동명\"].head(),sleep_winter[\"1인당 이용금액\"].head())\n",
    "plt.show()"
   ]
  },
  {
   "cell_type": "code",
   "execution_count": 13,
   "id": "1bb07874",
   "metadata": {},
   "outputs": [
    {
     "data": {
      "image/png": "[encoded data removed]",
      "text/plain": [
       "<Figure size 432x288 with 1 Axes>"
      ]
     },
     "metadata": {
      "needs_background": "light"
     },
     "output_type": "display_data"
    },
    {
     "data": {
      "image/png": "[encoded data removed]",
      "text/plain": [
       "<Figure size 432x288 with 1 Axes>"
      ]
     },
     "metadata": {
      "needs_background": "light"
     },
     "output_type": "display_data"
    },
    {
     "data": {
      "image/png": "[encoded data removed]",
      "text/plain": [
       "<Figure size 432x288 with 1 Axes>"
      ]
     },
     "metadata": {
      "needs_background": "light"
     },
     "output_type": "display_data"
    },
    {
     "data": {
      "image/png": "[encoded data removed]",
      "text/plain": [
       "<Figure size 432x288 with 1 Axes>"
      ]
     },
     "metadata": {
      "needs_background": "light"
     },
     "output_type": "display_data"
    }
   ],
   "source": [
    "activity=jejudata19[(jejudata19[\"업종명\"]==\"스포츠 및 레크레이션 용품 임대업\")\n",
    "                    |(jejudata19[\"업종명\"]==\"기타 수상오락 서비스업\")]\n",
    "\n",
    "sleep_spring=activity[(activity[\"년월\"]==\"2019-03-01\")\n",
    "                |(activity[\"년월\"]==\"2019-04-01\")\n",
    "                |(activity[\"년월\"]==\"2019-05-01\")]\n",
    "\n",
    "sleep_summer=activity[(activity[\"년월\"]==\"2019-06-01\")\n",
    "                |(activity[\"년월\"]==\"2019-07-01\")\n",
    "                |(activity[\"년월\"]==\"2019-08-01\")]\n",
    "\n",
    "sleep_fall=activity[(activity[\"년월\"]==\"2019-09-01\")\n",
    "                |(activity[\"년월\"]==\"2019-10-01\")\n",
    "                |(activity[\"년월\"]==\"2019-11-01\")]\n",
    "\n",
    "sleep_winter=activity[(activity[\"년월\"]==\"2019-12-01\")\n",
    "                |(activity[\"년월\"]==\"2019-01-01\")\n",
    "                |(activity[\"년월\"]==\"2019-02-01\")]\n",
    "\n",
    "sleep_spring=sleep_spring.groupby([\"읍면동명\"],as_index=False).sum()\n",
    "sleep_spring[\"1인당 이용금액\"] = sleep_spring[\"이용금액\"]/sleep_spring[\"이용자수\"]\n",
    "sleep_spring[\"업종명\"]=\"문화레저\"\n",
    "sleep_spring = sleep_spring.sort_values(by=[\"1인당 이용금액\"],ascending=[False])\n",
    "plt.title(\"봄:문화레저\")\n",
    "plt.bar(sleep_spring[\"읍면동명\"].head(),sleep_spring[\"1인당 이용금액\"].head())\n",
    "plt.show()\n",
    "\n",
    "sleep_summer=sleep_summer.groupby([\"읍면동명\"],as_index=False).sum()\n",
    "sleep_summer[\"1인당 이용금액\"] = sleep_summer[\"이용금액\"]/sleep_summer[\"이용자수\"]\n",
    "sleep_summer[\"업종명\"]=\"문화레저\"\n",
    "sleep_summer = sleep_summer.sort_values(by=[\"1인당 이용금액\"],ascending=[False])\n",
    "plt.title(\"여름:문화레저\")\n",
    "plt.bar(sleep_summer[\"읍면동명\"].head(),sleep_summer[\"1인당 이용금액\"].head())\n",
    "plt.show()\n",
    "\n",
    "sleep_fall=sleep_fall.groupby([\"읍면동명\"],as_index=False).sum()\n",
    "sleep_fall[\"1인당 이용금액\"] = sleep_fall[\"이용금액\"]/sleep_fall[\"이용자수\"]\n",
    "sleep_fall[\"업종명\"]=\"문화레저\"\n",
    "sleep_fall = sleep_fall.sort_values(by=[\"1인당 이용금액\"],ascending=[False])\n",
    "plt.title(\"가을:문화레저\")\n",
    "plt.bar(sleep_fall[\"읍면동명\"].head(),sleep_fall[\"1인당 이용금액\"].head())\n",
    "plt.show()\n",
    "\n",
    "sleep_winter=sleep_winter.groupby([\"읍면동명\"],as_index=False).sum()\n",
    "sleep_winter[\"1인당 이용금액\"] = sleep_winter[\"이용금액\"]/sleep_winter[\"이용자수\"]\n",
    "sleep_winter[\"업종명\"]=\"문화레저\"\n",
    "sleep_winter = sleep_winter.sort_values(by=[\"1인당 이용금액\"],ascending=[False])\n",
    "plt.title(\"겨울:문화레저\")\n",
    "plt.bar(sleep_winter[\"읍면동명\"].head(),sleep_winter[\"1인당 이용금액\"].head())\n",
    "plt.show()"
   ]
  },
  {
   "cell_type": "code",
   "execution_count": 15,
   "id": "aa887f91",
   "metadata": {},
   "outputs": [
    {
     "data": {
      "image/png": "[encoded data removed]",
      "text/plain": [
       "<Figure size 432x288 with 1 Axes>"
      ]
     },
     "metadata": {
      "needs_background": "light"
     },
     "output_type": "display_data"
    },
    {
     "data": {
      "image/png": "[encoded data removed]",
      "text/plain": [
       "<Figure size 432x288 with 1 Axes>"
      ]
     },
     "metadata": {
      "needs_background": "light"
     },
     "output_type": "display_data"
    },
    {
     "data": {
      "image/png": "[encoded data removed]",
      "text/plain": [
       "<Figure size 432x288 with 1 Axes>"
      ]
     },
     "metadata": {
      "needs_background": "light"
     },
     "output_type": "display_data"
    },
    {
     "data": {
      "image/png": "[encoded data removed]",
      "text/plain": [
       "<Figure size 432x288 with 1 Axes>"
      ]
     },
     "metadata": {
      "needs_background": "light"
     },
     "output_type": "display_data"
    }
   ],
   "source": [
    "some=jejudata19[(jejudata19['업종명']==\"과실 및 채소 소매업\")\n",
    "    |(jejudata19[\"업종명\"]==\"관광 민예품 및 선물용품 소매업\")\n",
    "   |(jejudata19[\"업종명\"]==\"수산물 소매업\")\n",
    "    |(jejudata19[\"업종명\"]==\"육류 소매업\")\n",
    "    |(jejudata19[\"업종명\"]==\"빵 및 과자류 소매업\")\n",
    "    |(jejudata19[\"업종명\"]==\"화장품 및 방향제 소매업\")]\n",
    "\n",
    "sleep_spring=some[(some[\"년월\"]==\"2019-03-01\")\n",
    "                |(some[\"년월\"]==\"2019-04-01\")\n",
    "                |(some[\"년월\"]==\"2019-05-01\")]\n",
    "\n",
    "sleep_summer=some[(some[\"년월\"]==\"2019-06-01\")\n",
    "                |(some[\"년월\"]==\"2019-07-01\")\n",
    "                |(some[\"년월\"]==\"2019-08-01\")]\n",
    "\n",
    "sleep_fall=some[(some[\"년월\"]==\"2019-09-01\")\n",
    "                |(some[\"년월\"]==\"2019-10-01\")\n",
    "                |(some[\"년월\"]==\"2019-11-01\")]\n",
    "\n",
    "sleep_winter=some[(some[\"년월\"]==\"2019-12-01\")\n",
    "                |(some[\"년월\"]==\"2019-01-01\")\n",
    "                |(some[\"년월\"]==\"2019-02-01\")]\n",
    "\n",
    "sleep_spring=sleep_spring.groupby([\"읍면동명\"],as_index=False).sum()\n",
    "sleep_spring[\"1인당 이용금액\"] = sleep_spring[\"이용금액\"]/sleep_spring[\"이용자수\"]\n",
    "sleep_spring[\"업종명\"]=\"소매업\"\n",
    "sleep_spring = sleep_spring.sort_values(by=[\"1인당 이용금액\"],ascending=[False])\n",
    "plt.title(\"봄:소매업\")\n",
    "plt.bar(sleep_spring[\"읍면동명\"].head(),sleep_spring[\"1인당 이용금액\"].head())\n",
    "plt.show()\n",
    "\n",
    "sleep_summer=sleep_summer.groupby([\"읍면동명\"],as_index=False).sum()\n",
    "sleep_summer[\"1인당 이용금액\"] = sleep_summer[\"이용금액\"]/sleep_summer[\"이용자수\"]\n",
    "sleep_summer[\"업종명\"]=\"소매업\"\n",
    "sleep_summer = sleep_summer.sort_values(by=[\"1인당 이용금액\"],ascending=[False])\n",
    "plt.title(\"여름:소매업\")\n",
    "plt.bar(sleep_summer[\"읍면동명\"].head(),sleep_summer[\"1인당 이용금액\"].head())\n",
    "plt.show()\n",
    "\n",
    "sleep_fall=sleep_fall.groupby([\"읍면동명\"],as_index=False).sum()\n",
    "sleep_fall[\"1인당 이용금액\"] = sleep_fall[\"이용금액\"]/sleep_fall[\"이용자수\"]\n",
    "sleep_fall[\"업종명\"]=\"소매업\"\n",
    "sleep_fall = sleep_fall.sort_values(by=[\"1인당 이용금액\"],ascending=[False])\n",
    "plt.title(\"가을:소매업\")\n",
    "plt.bar(sleep_fall[\"읍면동명\"].head(),sleep_fall[\"1인당 이용금액\"].head())\n",
    "plt.show()\n",
    "\n",
    "sleep_winter=sleep_winter.groupby([\"읍면동명\"],as_index=False).sum()\n",
    "sleep_winter[\"1인당 이용금액\"] = sleep_winter[\"이용금액\"]/sleep_winter[\"이용자수\"]\n",
    "sleep_winter[\"업종명\"]=\"소매업\"\n",
    "sleep_winter = sleep_winter.sort_values(by=[\"1인당 이용금액\"],ascending=[False])\n",
    "plt.title(\"겨울:소매업\")\n",
    "plt.bar(sleep_winter[\"읍면동명\"].head(),sleep_winter[\"1인당 이용금액\"].head())\n",
    "plt.show()"
   ]
  },
  {
   "cell_type": "code",
   "execution_count": 51,
   "id": "86de0b6c",
   "metadata": {},
   "outputs": [
    {
     "data": {
      "text/html": [
       "<div>\n",
       "<style scoped>\n",
       "    .dataframe tbody tr th:only-of-type {\n",
       "        vertical-align: middle;\n",
       "    }\n",
       "\n",
       "    .dataframe tbody tr th {\n",
       "        vertical-align: top;\n",
       "    }\n",
       "\n",
       "    .dataframe thead th {\n",
       "        text-align: right;\n",
       "    }\n",
       "</style>\n",
       "<table border=\"1\" class=\"dataframe\">\n",
       "  <thead>\n",
       "    <tr style=\"text-align: right;\">\n",
       "      <th></th>\n",
       "      <th>읍면동명</th>\n",
       "      <th>이용자수</th>\n",
       "      <th>이용금액</th>\n",
       "      <th>업종명</th>\n",
       "    </tr>\n",
       "  </thead>\n",
       "  <tbody>\n",
       "    <tr>\n",
       "      <th>0</th>\n",
       "      <td>건입동</td>\n",
       "      <td>9161</td>\n",
       "      <td>542308361</td>\n",
       "      <td>문화레저</td>\n",
       "    </tr>\n",
       "    <tr>\n",
       "      <th>0</th>\n",
       "      <td>건입동</td>\n",
       "      <td>21782</td>\n",
       "      <td>1567507479</td>\n",
       "      <td>쇼핑</td>\n",
       "    </tr>\n",
       "    <tr>\n",
       "      <th>0</th>\n",
       "      <td>건입동</td>\n",
       "      <td>265969</td>\n",
       "      <td>10241713311</td>\n",
       "      <td>숙박업</td>\n",
       "    </tr>\n",
       "    <tr>\n",
       "      <th>0</th>\n",
       "      <td>건입동</td>\n",
       "      <td>19244</td>\n",
       "      <td>3021186198</td>\n",
       "      <td>숙박업</td>\n",
       "    </tr>\n",
       "    <tr>\n",
       "      <th>0</th>\n",
       "      <td>건입동</td>\n",
       "      <td>43016</td>\n",
       "      <td>3257280423</td>\n",
       "      <td>소매업</td>\n",
       "    </tr>\n",
       "    <tr>\n",
       "      <th>...</th>\n",
       "      <td>...</td>\n",
       "      <td>...</td>\n",
       "      <td>...</td>\n",
       "      <td>...</td>\n",
       "    </tr>\n",
       "    <tr>\n",
       "      <th>38</th>\n",
       "      <td>화북동</td>\n",
       "      <td>3455</td>\n",
       "      <td>276811320</td>\n",
       "      <td>쇼핑</td>\n",
       "    </tr>\n",
       "    <tr>\n",
       "      <th>42</th>\n",
       "      <td>효돈동</td>\n",
       "      <td>84083</td>\n",
       "      <td>2681782488</td>\n",
       "      <td>숙박업</td>\n",
       "    </tr>\n",
       "    <tr>\n",
       "      <th>42</th>\n",
       "      <td>효돈동</td>\n",
       "      <td>1</td>\n",
       "      <td>9800000</td>\n",
       "      <td>문화레저</td>\n",
       "    </tr>\n",
       "    <tr>\n",
       "      <th>42</th>\n",
       "      <td>효돈동</td>\n",
       "      <td>150</td>\n",
       "      <td>31457660</td>\n",
       "      <td>숙박업</td>\n",
       "    </tr>\n",
       "    <tr>\n",
       "      <th>42</th>\n",
       "      <td>효돈동</td>\n",
       "      <td>20406</td>\n",
       "      <td>791512463</td>\n",
       "      <td>소매업</td>\n",
       "    </tr>\n",
       "  </tbody>\n",
       "</table>\n",
       "<p>211 rows × 4 columns</p>\n",
       "</div>"
      ],
      "text/plain": [
       "   읍면동명    이용자수         이용금액   업종명\n",
       "0   건입동    9161    542308361  문화레저\n",
       "0   건입동   21782   1567507479    쇼핑\n",
       "0   건입동  265969  10241713311   숙박업\n",
       "0   건입동   19244   3021186198   숙박업\n",
       "0   건입동   43016   3257280423   소매업\n",
       "..  ...     ...          ...   ...\n",
       "38  화북동    3455    276811320    쇼핑\n",
       "42  효돈동   84083   2681782488   숙박업\n",
       "42  효돈동       1      9800000  문화레저\n",
       "42  효돈동     150     31457660   숙박업\n",
       "42  효돈동   20406    791512463   소매업\n",
       "\n",
       "[211 rows x 4 columns]"
      ]
     },
     "execution_count": 51,
     "metadata": {},
     "output_type": "execute_result"
    }
   ],
   "source": [
    "#이용자수 5개  합쳐서 총 합 추가하고 하나씩 나눠서 비율 누고 그래프\n",
    "total_people=pd.concat([activity_group,food_group,sleep_group,some_group,shop_group])\n",
    "\n",
    "total_people=total_people.sort_values(by=\"읍면동명\")\n",
    "\n",
    "total_people"
   ]
  },
  {
   "cell_type": "code",
   "execution_count": 68,
   "id": "7bfb90d5",
   "metadata": {},
   "outputs": [],
   "source": [
    "data19=pd.concat([activity_group,food_group,sleep_group,some_group,shop_group])\n",
    "data19=data19.sort_values(by=\"읍면동명\")\n",
    "data19.to_csv(\"totalpeople19.csv\",index=True)\n"
   ]
  }
 ],
 "metadata": {
  "kernelspec": {
   "display_name": "Python 3",
   "language": "python",
   "name": "python3"
  },
  "language_info": {
   "codemirror_mode": {
    "name": "ipython",
    "version": 3
   },
   "file_extension": ".py",
   "mimetype": "text/x-python",
   "name": "python",
   "nbconvert_exporter": "python",
   "pygments_lexer": "ipython3",
   "version": "3.8.8"
  }
 },
 "nbformat": 4,
 "nbformat_minor": 5
}
